{
  "nbformat": 4,
  "nbformat_minor": 0,
  "metadata": {
    "colab": {
      "provenance": [],
      "authorship_tag": "ABX9TyPolPcu8DomuOJ/OmRoK6hE",
      "include_colab_link": true
    },
    "kernelspec": {
      "name": "python3",
      "display_name": "Python 3"
    },
    "language_info": {
      "name": "python"
    }
  },
  "cells": [
    {
      "cell_type": "markdown",
      "metadata": {
        "id": "view-in-github",
        "colab_type": "text"
      },
      "source": [
        "<a href=\"https://colab.research.google.com/github/Eve113/Mi-Portafolio/blob/main/Python_Data_Science_EPR.ipynb\" target=\"_parent\"><img src=\"https://colab.research.google.com/assets/colab-badge.svg\" alt=\"Open In Colab\"/></a>"
      ]
    },
    {
      "cell_type": "markdown",
      "source": [
        "# **Python para Data Science**\n",
        "A continuación se podrá observar algunos desafíos hechos en el aula de alura del curso *Python Data Science Primeros Pasos*"
      ],
      "metadata": {
        "id": "iTItqS4Ngo52"
      }
    },
    {
      "cell_type": "markdown",
      "source": [
        "Imprime la frase \"Escuela de Datos de Alura\""
      ],
      "metadata": {
        "id": "IO15Xv_wtaqs"
      }
    },
    {
      "cell_type": "code",
      "source": [
        "print(\"Escuela de Datos de Alura\")"
      ],
      "metadata": {
        "colab": {
          "base_uri": "https://localhost:8080/"
        },
        "id": "tGUwjEykhMen",
        "outputId": "59e9a7cc-4c7c-4424-8539-f88ff45ac91b"
      },
      "execution_count": null,
      "outputs": [
        {
          "output_type": "stream",
          "name": "stdout",
          "text": [
            "Escuela de Datos de Alura\n"
          ]
        }
      ]
    },
    {
      "cell_type": "code",
      "source": [],
      "metadata": {
        "id": "GTb1-Q-1t_so"
      },
      "execution_count": null,
      "outputs": []
    },
    {
      "cell_type": "markdown",
      "source": [
        "Imprime tu nombre y tu apellido siguiendo la estructura a continuación:\n",
        "\n",
        "Nombre: [tu nombre]\n",
        "Apellido: [tu apellido]"
      ],
      "metadata": {
        "id": "nSvSjxNot3yx"
      }
    },
    {
      "cell_type": "code",
      "source": [
        "nombre = \"Evelyn\"\n",
        "Apellido = \"Pareja Ríos\"\n",
        "print(f'Nombre:{nombre}\\nApellido: {Apellido}')"
      ],
      "metadata": {
        "colab": {
          "base_uri": "https://localhost:8080/"
        },
        "id": "xwEJFjXHhWYs",
        "outputId": "d4db29c5-5b36-4fe9-c592-41e556d256f6"
      },
      "execution_count": null,
      "outputs": [
        {
          "output_type": "stream",
          "name": "stdout",
          "text": [
            "Nombre:Evelyn\n",
            "Apellido: Pareja Ríos\n"
          ]
        }
      ]
    },
    {
      "cell_type": "markdown",
      "source": [
        "Imprime tu primer nombre letra por letra. Por ejemplo, si mi nombre es Álvaro, la salida sería:\n",
        "\n",
        "Á\n",
        "L\n",
        "V\n",
        "A\n",
        "R\n",
        "O"
      ],
      "metadata": {
        "id": "xv8U1K8AuFoT"
      }
    },
    {
      "cell_type": "code",
      "source": [
        "nombre = input(\"Ingrese su nombre:\")\n",
        "for char in nombre:\n",
        "  print(char)"
      ],
      "metadata": {
        "colab": {
          "base_uri": "https://localhost:8080/"
        },
        "id": "DBOKARZji_Sk",
        "outputId": "b240086a-e475-4a33-f703-20fef4501481"
      },
      "execution_count": null,
      "outputs": [
        {
          "output_type": "stream",
          "name": "stdout",
          "text": [
            "Ingrese su nombre:Evelyn\n",
            "E\n",
            "v\n",
            "e\n",
            "l\n",
            "y\n",
            "n\n"
          ]
        }
      ]
    },
    {
      "cell_type": "markdown",
      "source": [
        "Imprime tu fecha de nacimiento en formato día mes año. Recuerda que los valores de día y año no deben estar entre comillas. Suponiendo una fecha de cumpleaños el 28 de febrero de 2003, el formato debe ser como el siguiente:\n",
        "\n",
        "28 febrero 2003"
      ],
      "metadata": {
        "id": "BPtJJIgauORL"
      }
    },
    {
      "cell_type": "code",
      "source": [
        "from datetime import datetime\n",
        "\n",
        "nombre = input(\"Ingrese su nombre:\")\n",
        "Nacimiento = input(\"Ingrese su fecha de nacimiento en formato DD/MM/AAAA:\")\n",
        "\n",
        "try:\n",
        "  fecha_nac = datetime.strptime(Nacimiento, \"%d/%m/%Y\")\n",
        "#Condicional para validar si la fecha ingresada es valida\n",
        "  if fecha_nac > datetime.now():\n",
        "    print(\"La fecha no puede ser en el futuro\")\n",
        "  else:\n",
        "    dia = fecha_nac.strftime(\"%A\")\n",
        "# Traducir días y meses al español\n",
        "    if dia == \"Monday\":\n",
        "      dia = \"Lunes\"\n",
        "    if dia == \"Tuesday\":\n",
        "      dia = \"Martes\"\n",
        "    if dia == \"Wednesday\":\n",
        "      dia = \"Miércoles\"\n",
        "    if dia == \"Thursday\":\n",
        "      dia = \"Jueves\"\n",
        "    if dia == \"Friday\":\n",
        "      dia = \"Viernes\"\n",
        "    if dia == \"Saturday\":\n",
        "      dia = \"Sábado\"\n",
        "    if dia == \"Sunday\":\n",
        "      dia = \"Domingo\"\n",
        "    if fecha_nac.month == 1:\n",
        "      mes = \"enero\"\n",
        "    if fecha_nac.month == 2:\n",
        "      mes = \"febrero\"\n",
        "    if fecha_nac.month == 3:\n",
        "      mes = \"marzo\"\n",
        "    if fecha_nac.month == 4:\n",
        "      mes = \"abril\"\n",
        "    if fecha_nac.month == 5:\n",
        "      mes = \"mayo\"\n",
        "    if fecha_nac.month == 6:\n",
        "      mes = \"junio\"\n",
        "    if fecha_nac.month == 7:\n",
        "      mes = \"julio\"\n",
        "    if fecha_nac.month == 8:\n",
        "      mes = \"agosto\"\n",
        "    if fecha_nac.month == 9:\n",
        "      mes = \"septiembre\"\n",
        "    if fecha_nac.month == 10:\n",
        "      mes = \"octubre\"\n",
        "    if fecha_nac.month == 11:\n",
        "      mes = \"noviembre\"\n",
        "    if fecha_nac.month == 12:\n",
        "      mes = \"diciembre\"\n",
        "  print(f'Hola {nombre}, tu naciste el {fecha_nac.strftime(f\"%d de {mes} de %Y un día {dia}\")}')\n",
        "\n",
        "#Condicional para validar si el formato de la fecha es valido\n",
        "except ValueError:\n",
        "  print(\"Formato de fecha incorrecto. Intente nuevamente.\")"
      ],
      "metadata": {
        "colab": {
          "base_uri": "https://localhost:8080/"
        },
        "id": "V0crC8qjkkG_",
        "outputId": "b5f3fe1d-d7ad-436f-9989-c77a2ecb5fe0"
      },
      "execution_count": null,
      "outputs": [
        {
          "output_type": "stream",
          "name": "stdout",
          "text": [
            "Ingrese su nombre:Evelyn\n",
            "Ingrese su fecha de nacimiento en formato DD/MM/AAAA:13/01/2003\n",
            "Hola Evelyn, tu naciste el: 13 de enero de 2003 un día Lunes\n"
          ]
        }
      ]
    },
    {
      "cell_type": "markdown",
      "source": [
        "En una empresa de venta de bienes raíces, debes crear un código que analice los datos de ventas anuales para ayudar a la dirección en la toma de decisiones. El código debe recopilar los datos de cantidad de ventas durante los años 2022 y 2023 y calcular la variación porcentual. A partir del valor de la variación, se deben proporcionar las siguientes sugerencias:\n",
        "\n",
        "Para una variación superior al 20%: bonificación para el equipo de ventas.\n",
        "Para una variación entre el 2% y el 20%: pequeña bonificación para el equipo de ventas.\n",
        "Para una variación entre el 2% y el -10%: planificación de políticas de incentivo a las ventas.\n",
        "Para bonificaciones inferiores al -10%: recorte de gastos."
      ],
      "metadata": {
        "id": "RPO6mla-p9TJ"
      }
    },
    {
      "cell_type": "code",
      "source": [
        "año_nuevo= int(input('Ingrese la cantidad de ventas del año actual:'))\n",
        "año_viejo = int(input('Ingrese la cantidad de ventas del año pasado:'))\n",
        "\n",
        "if año_viejo == 0:\n",
        "  print(\"Las ventas aumentaron respecto al año anterior, en el cual no se registraron ingresos, por lo tanto no se calcula la variación porcentual.\")\n",
        "else:\n",
        "  variacion = ((año_nuevo - año_viejo)/año_viejo)*100\n",
        "  if variacion > 20:\n",
        "    print('Se le dará una bonificación al equipo de ventas')\n",
        "  elif variacion >= 2 and variacion <= 20:\n",
        "    print('Se le dará una pequeña bonificación para el equipo de ventas')\n",
        "  elif variacion >= -10 and variacion < 2:\n",
        "    print('Se hará una planificación de políticas de incentivo a las ventas')\n",
        "  else:\n",
        "    print('Se hará un recorte de gastos')"
      ],
      "metadata": {
        "id": "D7G-ub2qKElX",
        "colab": {
          "base_uri": "https://localhost:8080/"
        },
        "outputId": "97e81eb2-de32-48c1-87ac-b7e6ec532516"
      },
      "execution_count": null,
      "outputs": [
        {
          "output_type": "stream",
          "name": "stdout",
          "text": [
            "Ingrese la cantidad de ventas del año actual:12\n",
            "Ingrese la cantidad de ventas del año pasado:0\n",
            "Las ventas aumentaron respecto al año anterior, en el cual no se registraron ingresos, por lo tanto no se calcula la variación porcentual.\n"
          ]
        }
      ]
    },
    {
      "cell_type": "markdown",
      "source": [
        "En una elección para la gerencia de una empresa con 20 empleados, hay cuatro candidatos. Escribe un programa que calcule al ganador de la elección. La votación se realizó de la siguiente manera:\n",
        "\n",
        "Cada empleado votó por uno de los cuatro candidatos (representados por los números 1, 2, 3 y 4).\n",
        "\n",
        "También se contaron los votos nulos (representados por el número 5) y los votos en blanco (representados por el número 6).\n",
        "\n",
        "Al final de la votación, el programa debe mostrar el número total de votos para cada candidato, los votos nulos y los votos en blanco. Además, debe calcular y mostrar el porcentaje de votos nulos con respecto al total de votos y el porcentaje de votos en blanco con respecto al total de votos."
      ],
      "metadata": {
        "id": "uJtSICYHTb8M"
      }
    },
    {
      "cell_type": "code",
      "source": [
        "candidato1 = 0\n",
        "candidato2 = 0\n",
        "candidato3 = 0\n",
        "candidato4 = 0\n",
        "nulos = 0\n",
        "blanco = 0\n",
        "for i in range(0, 20):\n",
        "    voto = int(input('Ingresa tu voto: '))\n",
        "    if voto == 1:\n",
        "        candidato1 += 1\n",
        "    elif voto == 2:\n",
        "        candidato2 += 1\n",
        "    elif voto == 3:\n",
        "        candidato3 += 1\n",
        "    elif voto == 4:\n",
        "        candidato4 += 1\n",
        "    elif voto == 6:\n",
        "        blanco += 1\n",
        "    else:\n",
        "        nulos += 1\n",
        "        print(\"Voto anulado debido a que se marco un numero distinto de 1,2,3,4 y 6\")\n",
        "\n",
        "\n",
        "print(f'Votos candidato 1: {candidato1}')\n",
        "print(f'Votos candidato 2: {candidato2}')\n",
        "print(f'Votos candidato 3: {candidato3}')\n",
        "print(f'Votos candidato 4: {candidato4}')\n",
        "print(f'Votos nulos: {nulos}')\n",
        "print(f'Votos en blanco: {blanco}')\n",
        "print(f'Porcentaje de votos nulos: {(nulos / 20 * 100)}')\n",
        "print(f'Porcentaje de votos en blanco: {(blanco / 20 * 100)}')"
      ],
      "metadata": {
        "colab": {
          "base_uri": "https://localhost:8080/"
        },
        "id": "e8vqGfZrTatQ",
        "outputId": "aa71bcab-eb2e-4ec1-9040-608018f039fd"
      },
      "execution_count": null,
      "outputs": [
        {
          "output_type": "stream",
          "name": "stdout",
          "text": [
            "Ingresa tu voto: 1\n",
            "Ingresa tu voto: 2\n",
            "Ingresa tu voto: 3\n",
            "Ingresa tu voto: 4\n",
            "Ingresa tu voto: 5\n",
            "Voto anulado debido a que se marco un numero distinto de 1,2,3,4 y 6\n",
            "Ingresa tu voto: 4\n",
            "Ingresa tu voto: 3\n",
            "Ingresa tu voto: 4\n",
            "Ingresa tu voto: 5\n",
            "Voto anulado debido a que se marco un numero distinto de 1,2,3,4 y 6\n",
            "Ingresa tu voto: 6\n",
            "Ingresa tu voto: 7\n",
            "Voto anulado debido a que se marco un numero distinto de 1,2,3,4 y 6\n",
            "Ingresa tu voto: 3\n",
            "Ingresa tu voto: 4\n",
            "Ingresa tu voto: 6\n",
            "Ingresa tu voto: 2\n",
            "Ingresa tu voto: 3\n",
            "Ingresa tu voto: 5\n",
            "Voto anulado debido a que se marco un numero distinto de 1,2,3,4 y 6\n",
            "Ingresa tu voto: 6\n",
            "Ingresa tu voto: 4\n",
            "Ingresa tu voto: 4\n",
            "Votos candidato 1: 1\n",
            "Votos candidato 2: 2\n",
            "Votos candidato 3: 4\n",
            "Votos candidato 4: 6\n",
            "Votos nulos: 4\n",
            "Votos en blanco: 3\n",
            "Porcentaje de votos nulos: 20.0\n",
            "Porcentaje de votos en blanco: 15.0\n"
          ]
        }
      ]
    }
  ]
}